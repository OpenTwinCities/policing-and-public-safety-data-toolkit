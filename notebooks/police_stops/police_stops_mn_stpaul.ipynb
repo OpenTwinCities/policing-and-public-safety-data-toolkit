{
 "cells": [
  {
   "cell_type": "markdown",
   "metadata": {},
   "source": [
    "# Police Stops Data\n",
    "## Policing & Public Safety Data Toolkit"
   ]
  },
  {
   "cell_type": "code",
   "execution_count": 11,
   "metadata": {},
   "outputs": [],
   "source": [
    "#    LIBRARIES\n",
    "import pandas as pd\n",
    "import matplotlib.pyplot as plt\n",
    "\n",
    "\n",
    "#    VARIABLES THAT CAN BE CUSTOMIZED\n",
    "path_datafiles = \"../../data/local/\"\n",
    "datafile = \"Traffic_Stop_Dataset.csv\"\n"
   ]
  },
  {
   "cell_type": "markdown",
   "metadata": {},
   "source": [
    "###### Data Background\n",
    "This analysis is based on the Traffic Stop Dataset downloaded November 20, 2020 at 10:32a.   \n",
    "\n",
    "It conforms to the [Police Stops Data Dictionary](../../references/data_dictionaries/data_dictionary_police_stops.md) in this repository with the following expections:   \n",
    " - missing fields: 'contraband_found', 'arrest_made', 'warning_issued'   \n",
    " - additional fields: 'YEAR OF STOP', 'POLICE GRID NUMBER', 'LOCATION OF STOP BY POLICE GRID', 'COUNT'"
   ]
  },
  {
   "cell_type": "code",
   "execution_count": 3,
   "metadata": {},
   "outputs": [],
   "source": [
    "expected_columns = ['stop_date','subject_race','subject_sex',\n",
    "                   'subject_age','search_conducted','contraband_found',\n",
    "                   'citation_issued','warning_issued','frisk_performed',\n",
    "                   'arrest_made','reason_for_stop']\n",
    "column_dictionary = {'DATE OF STOP': 'stop_date', 'RACE OF DRIVER': 'subject_race',\n",
    "                     'GENDER OF DRIVER': 'subject_sex','DRIVER SEARCHED?': 'frisk_performed',\n",
    "                     'VEHICLE SEARCHED?': 'search_conducted', 'CITATION ISSUED?': 'citation_issued',\n",
    "                     'AGE OF DRIVER': 'subject_age', 'REASON FOR STOP': 'reason_for_stop',\n",
    "                     'YEAR OF STOP': 'local_year_of_stop', 'POLICE GRID NUMBER': 'local_police_grid_number',\n",
    "                     'LOCATION OF STOP BY POLICE GRID': 'local_location_of_stop_by_police_grid',\n",
    "                     'COUNT': 'local_count'}"
   ]
  },
  {
   "cell_type": "markdown",
   "metadata": {},
   "source": [
    "### Data Prep"
   ]
  },
  {
   "cell_type": "code",
   "execution_count": 4,
   "metadata": {},
   "outputs": [],
   "source": [
    "#    Load data\n",
    "general_df = pd.read_csv(path_datafiles + datafile, parse_dates=['DATE OF STOP'])"
   ]
  },
  {
   "cell_type": "code",
   "execution_count": null,
   "metadata": {},
   "outputs": [],
   "source": [
    "#    check columns\n",
    "general_df.columns\n",
    "#    build column_dictionary to change column names"
   ]
  },
  {
   "cell_type": "code",
   "execution_count": 4,
   "metadata": {},
   "outputs": [
    {
     "data": {
      "text/plain": [
       "YEAR OF STOP                                int64\n",
       "DATE OF STOP                       datetime64[ns]\n",
       "RACE OF DRIVER                             object\n",
       "GENDER OF DRIVER                           object\n",
       "DRIVER SEARCHED?                           object\n",
       "VEHICLE SEARCHED?                          object\n",
       "CITATION ISSUED?                           object\n",
       "AGE OF DRIVER                             float64\n",
       "REASON FOR STOP                            object\n",
       "POLICE GRID NUMBER                        float64\n",
       "LOCATION OF STOP BY POLICE GRID            object\n",
       "COUNT                                       int64\n",
       "dtype: object"
      ]
     },
     "execution_count": 4,
     "metadata": {},
     "output_type": "execute_result"
    }
   ],
   "source": [
    "general_df.dtypes"
   ]
  },
  {
   "cell_type": "code",
   "execution_count": 7,
   "metadata": {},
   "outputs": [
    {
     "data": {
      "text/plain": [
       "(765585, 12)"
      ]
     },
     "execution_count": 7,
     "metadata": {},
     "output_type": "execute_result"
    }
   ],
   "source": [
    "general_df.shape"
   ]
  },
  {
   "cell_type": "markdown",
   "metadata": {},
   "source": [
    "###### Explore uniqueness of data"
   ]
  },
  {
   "cell_type": "code",
   "execution_count": 6,
   "metadata": {},
   "outputs": [
    {
     "data": {
      "text/plain": [
       "YEAR OF STOP                           19\n",
       "DATE OF STOP                       717641\n",
       "RACE OF DRIVER                          8\n",
       "GENDER OF DRIVER                        3\n",
       "DRIVER SEARCHED?                        3\n",
       "VEHICLE SEARCHED?                       3\n",
       "CITATION ISSUED?                        2\n",
       "AGE OF DRIVER                          87\n",
       "REASON FOR STOP                         5\n",
       "POLICE GRID NUMBER                    213\n",
       "LOCATION OF STOP BY POLICE GRID       554\n",
       "COUNT                                   1\n",
       "dtype: int64"
      ]
     },
     "execution_count": 6,
     "metadata": {},
     "output_type": "execute_result"
    }
   ],
   "source": [
    "general_df.nunique()"
   ]
  },
  {
   "cell_type": "code",
   "execution_count": 8,
   "metadata": {},
   "outputs": [
    {
     "data": {
      "text/plain": [
       "array(['White', 'Black', 'Asian', 'Latino', 'Other', 'Native American',\n",
       "       'Native Am', 'No Data'], dtype=object)"
      ]
     },
     "execution_count": 8,
     "metadata": {},
     "output_type": "execute_result"
    }
   ],
   "source": [
    "general_df['RACE OF DRIVER'].unique()"
   ]
  },
  {
   "cell_type": "code",
   "execution_count": 11,
   "metadata": {},
   "outputs": [
    {
     "data": {
      "text/plain": [
       "array(['Female', 'Male', 'No Data'], dtype=object)"
      ]
     },
     "execution_count": 11,
     "metadata": {},
     "output_type": "execute_result"
    }
   ],
   "source": [
    "general_df['GENDER OF DRIVER'].unique()"
   ]
  },
  {
   "cell_type": "code",
   "execution_count": 12,
   "metadata": {},
   "outputs": [
    {
     "data": {
      "text/plain": [
       "array(['No', 'Yes', 'No Data'], dtype=object)"
      ]
     },
     "execution_count": 12,
     "metadata": {},
     "output_type": "execute_result"
    }
   ],
   "source": [
    "general_df['DRIVER SEARCHED?'].unique()"
   ]
  },
  {
   "cell_type": "code",
   "execution_count": 13,
   "metadata": {},
   "outputs": [
    {
     "data": {
      "text/plain": [
       "array(['No', 'Yes', 'No Data'], dtype=object)"
      ]
     },
     "execution_count": 13,
     "metadata": {},
     "output_type": "execute_result"
    }
   ],
   "source": [
    "general_df['VEHICLE SEARCHED?'].unique()"
   ]
  },
  {
   "cell_type": "code",
   "execution_count": 14,
   "metadata": {},
   "outputs": [
    {
     "data": {
      "text/plain": [
       "array(['Yes', 'No'], dtype=object)"
      ]
     },
     "execution_count": 14,
     "metadata": {},
     "output_type": "execute_result"
    }
   ],
   "source": [
    "general_df['CITATION ISSUED?'].unique()"
   ]
  },
  {
   "cell_type": "code",
   "execution_count": 15,
   "metadata": {},
   "outputs": [
    {
     "data": {
      "text/plain": [
       "array(['Moving Violation', 'Equipment Violation', 'Investigative Stop',\n",
       "       '911 Call / Citizen Reported', 'No Data'], dtype=object)"
      ]
     },
     "execution_count": 15,
     "metadata": {},
     "output_type": "execute_result"
    }
   ],
   "source": [
    "general_df['REASON FOR STOP'].unique()"
   ]
  },
  {
   "cell_type": "code",
   "execution_count": 46,
   "metadata": {},
   "outputs": [
    {
     "data": {
      "text/plain": [
       "YEAR OF STOP                            0\n",
       "DATE OF STOP                            0\n",
       "RACE OF DRIVER                          0\n",
       "GENDER OF DRIVER                        0\n",
       "DRIVER SEARCHED?                        0\n",
       "VEHICLE SEARCHED?                       0\n",
       "CITATION ISSUED?                        0\n",
       "AGE OF DRIVER                      644506\n",
       "REASON FOR STOP                         0\n",
       "POLICE GRID NUMBER                     17\n",
       "LOCATION OF STOP BY POLICE GRID      1742\n",
       "COUNT                                   0\n",
       "dtype: int64"
      ]
     },
     "execution_count": 46,
     "metadata": {},
     "output_type": "execute_result"
    }
   ],
   "source": [
    "general_df.isna().sum()"
   ]
  },
  {
   "cell_type": "markdown",
   "metadata": {},
   "source": [
    "###### set up analysis dataframe"
   ]
  },
  {
   "cell_type": "code",
   "execution_count": 5,
   "metadata": {},
   "outputs": [],
   "source": [
    "#    new columns and strip whitespace\n",
    "analysis_df = general_df.rename(columns=column_dictionary).apply(lambda x: x.str.strip()\n",
    "                                                                 if x.dtype == 'object' else x)\n",
    "#    normalize date for easy analysis by time periods\n",
    "analysis_df.index = analysis_df['stop_date']\n",
    "analysis_df.index = analysis_df.index.normalize()\n",
    "analysis_df.index.name = 'stop_date_normalized'"
   ]
  },
  {
   "cell_type": "code",
   "execution_count": 8,
   "metadata": {},
   "outputs": [
    {
     "data": {
      "text/plain": [
       "<AxesSubplot:xlabel='Year'>"
      ]
     },
     "execution_count": 8,
     "metadata": {},
     "output_type": "execute_result"
    },
    {
     "data": {
      "image/png": "[encoded data removed]",
      "text/plain": [
       "<Figure size 432x288 with 1 Axes>"
      ]
     },
     "metadata": {
      "needs_background": "light"
     },
     "output_type": "display_data"
    }
   ],
   "source": [
    "# hour, month, year can be pulled with\n",
    "#analysis_df.groupby(analysis_df['stop_date'].rename('Hours').dt.hour).size().plot()\n",
    "#analysis_df.groupby(analysis_df['stop_date'].rename('Month').dt.month).size().plot()\n",
    "analysis_df.groupby(analysis_df['stop_date'].rename('Year').dt.year).size().plot.bar()"
   ]
  },
  {
   "cell_type": "markdown",
   "metadata": {},
   "source": [
    "### Analysis"
   ]
  },
  {
   "cell_type": "markdown",
   "metadata": {},
   "source": [
    "###### What time frame does the data represent?"
   ]
  },
  {
   "cell_type": "code",
   "execution_count": 28,
   "metadata": {},
   "outputs": [
    {
     "name": "stdout",
     "output_type": "stream",
     "text": [
      "Minimum date:\t 2001-01-01 00:11:00 \n",
      "Maximum date:\t 2019-12-31 23:52:00\n"
     ]
    }
   ],
   "source": [
    "#print('Minimum date:\\t', analysis_df['stop_date'].min(),\\\n",
    "#      '\\nMaximum date:\\t', analysis_df['stop_date'].max())\n",
    "\n",
    "print('Minimum date:\\t', analysis_df.index.to_period('d').min(),\\\n",
    "      '\\nMaximum date:\\t', analysis_df.index.to_period('d').max())"
   ]
  },
  {
   "cell_type": "markdown",
   "metadata": {},
   "source": [
    "###### Do we see any trends in overall number of stops over time?  Is there a seasonal trend in number of stops for different months of the year?"
   ]
  },
  {
   "cell_type": "code",
   "execution_count": 17,
   "metadata": {},
   "outputs": [
    {
     "data": {
      "image/png": "[encoded data removed]",
      "text/plain": [
       "<Figure size 1296x432 with 3 Axes>"
      ]
     },
     "metadata": {
      "needs_background": "light"
     },
     "output_type": "display_data"
    }
   ],
   "source": [
    "#    Make a graph\n",
    "fig = plt.figure(constrained_layout=False, figsize=(18,6))\n",
    "gs1 = fig.add_gridspec(nrows=1, ncols=3)\n",
    "fig_ax1 = fig.add_subplot(gs1[0,0])\n",
    "fig_ax2 = fig.add_subplot(gs1[0,1])\n",
    "fig_ax3 = fig.add_subplot(gs1[0,2])\n",
    "analysis_df.groupby(analysis_df['stop_date'].rename('Year').dt.year).size().plot.bar(\n",
    "                    ax=fig_ax1,rot=90,legend=False,ylabel='number of records',title='record count by year')\n",
    "analysis_df.groupby(analysis_df['stop_date'].rename('Month').dt.month).size().plot.bar(\n",
    "                    ax=fig_ax2,rot=90,legend=False,ylabel='number of records',\n",
    "                    title='record count by month',color='green')\n",
    "analysis_df.groupby(analysis_df['stop_date'].rename('Hour').dt.hour).size().plot.bar(\n",
    "                    ax=fig_ax3,rot=90,legend=False,ylabel='number of records',\n",
    "                    title='record count by hour',color='orange')\n",
    "\n",
    "plt.show()"
   ]
  },
  {
   "cell_type": "markdown",
   "metadata": {},
   "source": [
    "###### What are the most common reasons for stops?"
   ]
  },
  {
   "cell_type": "code",
   "execution_count": 68,
   "metadata": {},
   "outputs": [
    {
     "data": {
      "text/plain": [
       "Year  reason_for_stop            \n",
       "2001  No Data                        48890\n",
       "2002  No Data                        57369\n",
       "2003  No Data                        62749\n",
       "2004  No Data                        59436\n",
       "2005  No Data                        44009\n",
       "2006  No Data                        37275\n",
       "2007  No Data                        28326\n",
       "2008  No Data                        36311\n",
       "2009  No Data                        36287\n",
       "2010  No Data                        42265\n",
       "2011  No Data                        35575\n",
       "2012  No Data                        51652\n",
       "2013  No Data                        37170\n",
       "2014  No Data                        34842\n",
       "2015  No Data                        37076\n",
       "2016  No Data                        28507\n",
       "2017  Moving Violation               25655\n",
       "      Equipment Violation             5765\n",
       "      Investigative Stop              1105\n",
       "      No Data                          139\n",
       "      911 Call / Citizen Reported       69\n",
       "2018  Moving Violation               23204\n",
       "      Equipment Violation             6597\n",
       "      Investigative Stop              1140\n",
       "      911 Call / Citizen Reported       69\n",
       "2019  Moving Violation               16320\n",
       "      Equipment Violation             6650\n",
       "      Investigative Stop              1102\n",
       "      911 Call / Citizen Reported       31\n",
       "Name: reason_for_stop, dtype: int64"
      ]
     },
     "metadata": {},
     "output_type": "display_data"
    }
   ],
   "source": [
    "analysis_df.groupby(analysis_df['stop_date'].rename('Year').dt.year).reason_for_stop.value_counts()"
   ]
  },
  {
   "cell_type": "code",
   "execution_count": null,
   "metadata": {},
   "outputs": [],
   "source": [
    "a_df = analysis_df.loc['2017-01-01':].copy()"
   ]
  },
  {
   "cell_type": "code",
   "execution_count": 59,
   "metadata": {},
   "outputs": [
    {
     "data": {
      "text/plain": [
       "Year  reason_for_stop            \n",
       "2017  Moving Violation               25655\n",
       "      Equipment Violation             5765\n",
       "      Investigative Stop              1105\n",
       "      No Data                          139\n",
       "      911 Call / Citizen Reported       69\n",
       "2018  Moving Violation               23204\n",
       "      Equipment Violation             6597\n",
       "      Investigative Stop              1140\n",
       "      911 Call / Citizen Reported       69\n",
       "2019  Moving Violation               16320\n",
       "      Equipment Violation             6650\n",
       "      Investigative Stop              1102\n",
       "      911 Call / Citizen Reported       31\n",
       "Name: reason_for_stop, dtype: int64"
      ]
     },
     "execution_count": 59,
     "metadata": {},
     "output_type": "execute_result"
    }
   ],
   "source": [
    "a_df.groupby(a_df['stop_date'].rename('Year').dt.year).reason_for_stop.value_counts()"
   ]
  },
  {
   "cell_type": "code",
   "execution_count": 66,
   "metadata": {},
   "outputs": [
    {
     "data": {
      "text/plain": [
       "<AxesSubplot:xlabel='Year'>"
      ]
     },
     "execution_count": 66,
     "metadata": {},
     "output_type": "execute_result"
    },
    {
     "data": {
      "image/png": "[encoded data removed]",
      "text/plain": [
       "<Figure size 432x288 with 1 Axes>"
      ]
     },
     "metadata": {
      "needs_background": "light"
     },
     "output_type": "display_data"
    }
   ],
   "source": [
    "#a_df.groupby(a_df['stop_date'].rename('Year').dt.year).reason_for_stop.value_counts().unstack().plot(kind='bar',stacked=True)\n",
    "#data.unstack().plot(kind='bar', stacked=True)\n",
    "g_df = a_df.groupby(a_df['stop_date'].rename('Year').dt.year)['reason_for_stop']\n",
    "final_df = pd.concat([g_df.value_counts(), \n",
    "                g_df.value_counts(normalize=True).mul(100).round(decimals=0)],axis=1, keys=('counts','percentage'))\n",
    "final_df.loc[:, ['percentage']].unstack().plot.bar()"
   ]
  },
  {
   "cell_type": "markdown",
   "metadata": {},
   "source": [
    "###### Do different sex/gender groups tend to be stopped for different reasons?"
   ]
  },
  {
   "cell_type": "markdown",
   "metadata": {},
   "source": [
    "###### Do different race/ethnicity groups tend to be stopped for different reasons?"
   ]
  },
  {
   "cell_type": "markdown",
   "metadata": {},
   "source": [
    "###### When a person is stopped by the police, how frequently does the stop result in a vehicle search?"
   ]
  },
  {
   "cell_type": "code",
   "execution_count": 44,
   "metadata": {},
   "outputs": [
    {
     "data": {
      "text/plain": [
       "(37, 12)"
      ]
     },
     "execution_count": 44,
     "metadata": {},
     "output_type": "execute_result"
    }
   ],
   "source": [
    "analysis_df.loc['2019-12-31'].shape"
   ]
  },
  {
   "cell_type": "code",
   "execution_count": 38,
   "metadata": {},
   "outputs": [
    {
     "data": {
      "text/plain": [
       "stop_date_normalized\n",
       "2001-01-01     83\n",
       "2001-01-02    165\n",
       "2001-01-03    253\n",
       "2001-01-04    273\n",
       "2001-01-05    173\n",
       "             ... \n",
       "2019-12-27     91\n",
       "2019-12-28     61\n",
       "2019-12-29     56\n",
       "2019-12-30     21\n",
       "2019-12-31     37\n",
       "Name: stop_date, Length: 6939, dtype: int64"
      ]
     },
     "execution_count": 38,
     "metadata": {},
     "output_type": "execute_result"
    }
   ],
   "source": [
    "analysis_df.groupby('stop_date_normalized')['stop_date'].count()\n",
    "#outside_quarter_end].groupby('Ship Date')['Ship Date'].count()\n",
    "analysis_df.groupby(df['Date'].rename('Hours').dt.hour).size().plot.bar()"
   ]
  }
 ],
 "metadata": {
  "kernelspec": {
   "display_name": "Python 3",
   "language": "python",
   "name": "python3"
  },
  "language_info": {
   "codemirror_mode": {
    "name": "ipython",
    "version": 3
   },
   "file_extension": ".py",
   "mimetype": "text/x-python",
   "name": "python",
   "nbconvert_exporter": "python",
   "pygments_lexer": "ipython3",
   "version": "3.8.5"
  }
 },
 "nbformat": 4,
 "nbformat_minor": 4
}
